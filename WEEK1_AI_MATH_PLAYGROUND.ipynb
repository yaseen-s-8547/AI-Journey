{
  "nbformat": 4,
  "nbformat_minor": 0,
  "metadata": {
    "colab": {
      "provenance": [],
      "toc_visible": true,
      "authorship_tag": "ABX9TyPEh1QNGqS4yBQbAmewhFAF",
      "include_colab_link": true
    },
    "kernelspec": {
      "name": "python3",
      "display_name": "Python 3"
    },
    "language_info": {
      "name": "python"
    }
  },
  "cells": [
    {
      "cell_type": "markdown",
      "metadata": {
        "id": "view-in-github",
        "colab_type": "text"
      },
      "source": [
        "<a href=\"https://colab.research.google.com/github/yaseen-s-8547/AI-Journey/blob/master/WEEK1_AI_MATH_PLAYGROUND.ipynb\" target=\"_parent\"><img src=\"https://colab.research.google.com/assets/colab-badge.svg\" alt=\"Open In Colab\"/></a>"
      ]
    },
    {
      "cell_type": "markdown",
      "source": [
        "#THE_BASICS\n"
      ],
      "metadata": {
        "id": "_g_apc-XlXb8"
      }
    },
    {
      "cell_type": "markdown",
      "source": [
        "#BASICS\n",
        "\n"
      ],
      "metadata": {
        "id": "HGhf3UwMCU-f"
      }
    },
    {
      "cell_type": "markdown",
      "source": [
        "[link text](https://)# New Section"
      ],
      "metadata": {
        "id": "Ea7rI-zstD9O"
      }
    },
    {
      "cell_type": "code",
      "source": [
        "import numpy as np\n",
        "a=np.array([1,2,3],dtype='int32')\n",
        "print(a)\n",
        "#here we are creating simple list,but turning in to a numpy array\n",
        "b=np.array([[9.0,8.0,7.0],[6.0,5.0,4.0]])\n",
        "#here we created a 2D array(matrixwith 2 rows and 3 coloumns)\n",
        "#...............................................................\n",
        "   #NOW LETS DISSECT THE PROPERTIES OF NUMPY ARRAYS\n",
        "\n",
        "\"\"\"check dimension\"\"\"\n",
        "print(a.ndim)\n",
        "#a.ndim means to check dimensions of array\n",
        "b.ndim\n",
        "#dimension of the second array\n",
        "#...............................................................\n",
        "\"\"\" check rows and coloumns\"\"\"\n",
        "print(\"shape: \",a.shape)\n",
        "print(\"size of rows and coloumns:\" ,b.shape)\n",
        "#...............................................................\n",
        "\"\"\"to know what kind of numbers stored\"\"\"\n",
        "print(a.dtype)\n",
        "print(b.dtype)\n",
        "#...............................................................\n",
        "\"\"\"To Know size of elements in bytes\"\"\"\n",
        "print(a.itemsize)\n",
        "print(b.itemsize)\n",
        "#...............................................................\n",
        "\"\"\"to know total memory in bytes\"\"\"\n",
        "print(a.nbytes)\n",
        "#...............................................................\n",
        "\"\"\"Total Number of elements\"\"\"\n",
        "print(a.size)\n",
        "#...............................................................\n"
      ],
      "metadata": {
        "id": "6wXl8y_CCwr3",
        "colab": {
          "base_uri": "https://localhost:8080/"
        },
        "outputId": "dd427b6e-e3b7-46c5-f00f-803e3e7b6f15"
      },
      "execution_count": null,
      "outputs": [
        {
          "output_type": "stream",
          "name": "stdout",
          "text": [
            "[1 2 3]\n",
            "1\n",
            "shape:  (3,)\n",
            "size of rows and coloumns: (2, 3)\n",
            "int32\n",
            "float64\n",
            "4\n",
            "8\n",
            "12\n",
            "3\n"
          ]
        }
      ]
    },
    {
      "cell_type": "markdown",
      "source": [
        "Accessing/Changing speciifc elements,rows,columns etc\n"
      ],
      "metadata": {
        "id": "VTypYBe9C79Y"
      }
    },
    {
      "cell_type": "code",
      "source": [
        "import numpy as np\n",
        "a=np.array([[1,2,3,4,5,6,7],[8,9,10,11,12,13,14]])\n",
        "print(a)\n",
        "#this is the array of 2 rows and 7 coloumns\n",
        "#.....................................................\n",
        "\"\"\"Access specific element\"\"\"\n",
        "#syntax:a[row_index,column_index]\n",
        "print(a[1,5])\n",
        "#.....................................................\n",
        "\"\"\"Access a full row\"\"\"\n",
        "#syntax:a[row_index,:]\n",
        "print(a[0,:])\n",
        "#......................................................\n",
        "\"\"\"Access a full column\"\"\"\n",
        "#syntax:a[:,column_index]\n",
        "print(a[:,2])\n",
        "#......................................................\n",
        "\"\"\"Fancy Slicing:Select with start:end:step\"\"\"\n",
        "#syntax:a[row_index,start:end:step]\n",
        "print(a[1,1:-1:3])\n",
        "#.......................................................\n",
        "\"\"\"change an elemnt\"\"\"\n",
        "#syntax a[row_index,coloumn_index]\n",
        "a[1,5]=20\n",
        "print(a)\n",
        "#........................................................\n",
        "\"\"\"change a full column\"\"\"\n",
        "a[:,2]=[1,2]\n",
        "#here semi colon represents grabbing entire elements in the row\n",
        "print(a)\n",
        "#........................................................\n",
        "\"\"\"3D example\"\"\"\n",
        "c=np.array([[[1,2],[3,4]],[[5,6],[7,8]]])\n",
        "print(c)\n",
        "#get specific element(work out side in)\n",
        "print(c[1][1][1])\n",
        "print(c[:,0,:])\n",
        "#replacing\n",
        "c[:,0,:]=[[9,9],[8,8]]\n",
        "print(c)\n",
        "\n",
        "\n",
        "\n",
        "\n",
        "\n"
      ],
      "metadata": {
        "id": "TvR6UkT8DQCu",
        "colab": {
          "base_uri": "https://localhost:8080/"
        },
        "outputId": "40378658-7020-4acd-ba7c-47eec517725f"
      },
      "execution_count": null,
      "outputs": [
        {
          "output_type": "stream",
          "name": "stdout",
          "text": [
            "[[ 1  2  3  4  5  6  7]\n",
            " [ 8  9 10 11 12 13 14]]\n",
            "13\n",
            "[1 2 3 4 5 6 7]\n",
            "[ 3 10]\n",
            "[ 9 12]\n",
            "[[ 1  2  3  4  5  6  7]\n",
            " [ 8  9 10 11 12 20 14]]\n",
            "[[ 1  2  1  4  5  6  7]\n",
            " [ 8  9  2 11 12 20 14]]\n",
            "[[[1 2]\n",
            "  [3 4]]\n",
            "\n",
            " [[5 6]\n",
            "  [7 8]]]\n",
            "8\n",
            "[[1 2]\n",
            " [5 6]]\n",
            "[[[9 9]\n",
            "  [3 4]]\n",
            "\n",
            " [[8 8]\n",
            "  [7 8]]]\n"
          ]
        }
      ]
    },
    {
      "cell_type": "markdown",
      "source": [
        "INITIALIZING DIFFERENT TYPES OF ARRAYS\n",
        "\n",
        "\n"
      ],
      "metadata": {
        "id": "PPX8cgjqtNnd"
      }
    },
    {
      "cell_type": "code",
      "source": [
        "import numpy as np\n",
        "\"\"\"All ZEROS Matrix\"\"\"\n",
        "print(np.zeros((4,2,5)))\n",
        "print(\"...........................................\")\n",
        "#....................................\n",
        "\"\"\"ALL ones\"\"\"\n",
        "print(np.ones((4,2,4)))\n",
        "print(\"...........................................\")\n",
        "#....................................\n",
        "\"\"\"Matrix With Any Number\"\"\"\n",
        "a = np.array([[1,2,3,4,5,6,7],[8,9,10,11,12,13,14]])\n",
        "print(a)\n",
        "print(np.full((2,5,3),10))\n",
        "print(\"...........................................\")\n",
        "print(np.full_like(a,4))\n",
        "print(\"...........................................\")\n",
        "#....................................\n",
        "\"\"\"Random Numbers\"\"\"\n",
        "print(np.random.rand(4,2))\n",
        "print(\"...........................................\")\n",
        "print (np.random.randint(-1,7,size=(3,3)))\n",
        "print(\"...........................................\")\n",
        "#.....................................................\n",
        "\"\"\"Identity Matrix\"\"\"\n",
        "print(np.identity(5))\n",
        "print(\".............................................\")\n",
        "#......................................................\n",
        "\"\"\"Repeat Array\"\"\"\n",
        "arr=np.array([[1,2,3,5],[3,4,5,0],[5,6,7,0]])\n",
        "print(np.repeat(arr,3,axis=0))\n",
        "print(\"................................................\")\n",
        "#..........................................................\n",
        "\"\"\"Matrix Puzzle (Embedding a smaller matrix in a bigger one)\"\"\"\n",
        "output=np.ones((5,5))\n",
        "print(output)\n",
        "z=np.zeros((3,3))\n",
        "z[1,1]=9\n",
        "print(z)\n",
        "output[1:-1,1:-1]=z\n",
        "print(output)\n",
        "print(\".........................................\")\n",
        "#............................................................\n",
        "\n",
        "\n",
        "\n",
        "\n",
        "\n"
      ],
      "metadata": {
        "colab": {
          "base_uri": "https://localhost:8080/"
        },
        "id": "N1tucqx0wBle",
        "outputId": "0eb93064-80d5-4b9e-a5c5-9297ee6cad7c"
      },
      "execution_count": 14,
      "outputs": [
        {
          "output_type": "stream",
          "name": "stdout",
          "text": [
            "[[[0. 0. 0. 0. 0.]\n",
            "  [0. 0. 0. 0. 0.]]\n",
            "\n",
            " [[0. 0. 0. 0. 0.]\n",
            "  [0. 0. 0. 0. 0.]]\n",
            "\n",
            " [[0. 0. 0. 0. 0.]\n",
            "  [0. 0. 0. 0. 0.]]\n",
            "\n",
            " [[0. 0. 0. 0. 0.]\n",
            "  [0. 0. 0. 0. 0.]]]\n",
            "...........................................\n",
            "[[[1. 1. 1. 1.]\n",
            "  [1. 1. 1. 1.]]\n",
            "\n",
            " [[1. 1. 1. 1.]\n",
            "  [1. 1. 1. 1.]]\n",
            "\n",
            " [[1. 1. 1. 1.]\n",
            "  [1. 1. 1. 1.]]\n",
            "\n",
            " [[1. 1. 1. 1.]\n",
            "  [1. 1. 1. 1.]]]\n",
            "...........................................\n",
            "[[ 1  2  3  4  5  6  7]\n",
            " [ 8  9 10 11 12 13 14]]\n",
            "[[[10 10 10]\n",
            "  [10 10 10]\n",
            "  [10 10 10]\n",
            "  [10 10 10]\n",
            "  [10 10 10]]\n",
            "\n",
            " [[10 10 10]\n",
            "  [10 10 10]\n",
            "  [10 10 10]\n",
            "  [10 10 10]\n",
            "  [10 10 10]]]\n",
            "...........................................\n",
            "[[4 4 4 4 4 4 4]\n",
            " [4 4 4 4 4 4 4]]\n",
            "...........................................\n",
            "[[0.1047527  0.4488723 ]\n",
            " [0.66677827 0.79096322]\n",
            " [0.81943936 0.87026914]\n",
            " [0.84854815 0.33251781]]\n",
            "...........................................\n",
            "[[ 6  3  1]\n",
            " [-1 -1  2]\n",
            " [ 4  0  1]]\n",
            "...........................................\n",
            "[[1. 0. 0. 0. 0.]\n",
            " [0. 1. 0. 0. 0.]\n",
            " [0. 0. 1. 0. 0.]\n",
            " [0. 0. 0. 1. 0.]\n",
            " [0. 0. 0. 0. 1.]]\n",
            ".............................................\n",
            "[[1 2 3 5]\n",
            " [1 2 3 5]\n",
            " [1 2 3 5]\n",
            " [3 4 5 0]\n",
            " [3 4 5 0]\n",
            " [3 4 5 0]\n",
            " [5 6 7 0]\n",
            " [5 6 7 0]\n",
            " [5 6 7 0]]\n",
            "................................................\n",
            "[[1. 1. 1. 1. 1.]\n",
            " [1. 1. 1. 1. 1.]\n",
            " [1. 1. 1. 1. 1.]\n",
            " [1. 1. 1. 1. 1.]\n",
            " [1. 1. 1. 1. 1.]]\n",
            "[[0. 0. 0.]\n",
            " [0. 9. 0.]\n",
            " [0. 0. 0.]]\n",
            "[[1. 1. 1. 1. 1.]\n",
            " [1. 0. 0. 0. 1.]\n",
            " [1. 0. 9. 0. 1.]\n",
            " [1. 0. 0. 0. 1.]\n",
            " [1. 1. 1. 1. 1.]]\n",
            ".........................................\n"
          ]
        }
      ]
    }
  ]
}