{
  "nbformat": 4,
  "nbformat_minor": 0,
  "metadata": {
    "colab": {
      "provenance": [],
      "toc_visible": true,
      "authorship_tag": "ABX9TyOYB5cWFOceh8f1QRRTc6CY",
      "include_colab_link": true
    },
    "kernelspec": {
      "name": "python3",
      "display_name": "Python 3"
    },
    "language_info": {
      "name": "python"
    }
  },
  "cells": [
    {
      "cell_type": "markdown",
      "metadata": {
        "id": "view-in-github",
        "colab_type": "text"
      },
      "source": [
        "<a href=\"https://colab.research.google.com/github/yaseen-s-8547/AI-Journey/blob/master/WEEK1_AI_MATH_PLAYGROUND.ipynb\" target=\"_parent\"><img src=\"https://colab.research.google.com/assets/colab-badge.svg\" alt=\"Open In Colab\"/></a>"
      ]
    },
    {
      "cell_type": "markdown",
      "source": [
        "#THE_BASICS\n"
      ],
      "metadata": {
        "id": "_g_apc-XlXb8"
      }
    },
    {
      "cell_type": "markdown",
      "source": [
        "#BASICS\n",
        "\n"
      ],
      "metadata": {
        "id": "HGhf3UwMCU-f"
      }
    },
    {
      "cell_type": "code",
      "source": [
        "import numpy as np\n",
        "a=np.array([1,2,3],dtype='int32')\n",
        "print(a)\n",
        "#here we are creating simple list,but turning in to a numpy array\n",
        "b=np.array([[9.0,8.0,7.0],[6.0,5.0,4.0]])\n",
        "#here we created a 2D array(matrixwith 2 rows and 3 coloumns)\n",
        "#...............................................................\n",
        "   #NOW LETS DISSECT THE PROPERTIES OF NUMPY ARRAYS\n",
        "\n",
        "\"\"\"check dimension\"\"\"\n",
        "print(a.ndim)\n",
        "#a.ndim means to check dimensions of array\n",
        "b.ndim\n",
        "#dimension of the second array\n",
        "#...............................................................\n",
        "\"\"\" check rows and coloumns\"\"\"\n",
        "print(\"shape: \",a.shape)\n",
        "print(\"size of rows and coloumns:\" ,b.shape)\n",
        "#...............................................................\n",
        "\"\"\"to know what kind of numbers stored\"\"\"\n",
        "print(a.dtype)\n",
        "print(b.dtype)\n",
        "#...............................................................\n",
        "\"\"\"To Know size of elements in bytes\"\"\"\n",
        "print(a.itemsize)\n",
        "print(b.itemsize)\n",
        "#...............................................................\n",
        "\"\"\"to know total memory in bytes\"\"\"\n",
        "print(a.nbytes)\n",
        "#...............................................................\n",
        "\"\"\"Total Number of elements\"\"\"\n",
        "print(a.size)\n",
        "#...............................................................\n"
      ],
      "metadata": {
        "id": "6wXl8y_CCwr3",
        "colab": {
          "base_uri": "https://localhost:8080/"
        },
        "outputId": "dd427b6e-e3b7-46c5-f00f-803e3e7b6f15"
      },
      "execution_count": null,
      "outputs": [
        {
          "output_type": "stream",
          "name": "stdout",
          "text": [
            "[1 2 3]\n",
            "1\n",
            "shape:  (3,)\n",
            "size of rows and coloumns: (2, 3)\n",
            "int32\n",
            "float64\n",
            "4\n",
            "8\n",
            "12\n",
            "3\n"
          ]
        }
      ]
    },
    {
      "cell_type": "markdown",
      "source": [
        "Accessing/Changing speciifc elements,rows,columns etc\n"
      ],
      "metadata": {
        "id": "VTypYBe9C79Y"
      }
    },
    {
      "cell_type": "code",
      "source": [
        "import numpy as np\n",
        "a=np.array([[1,2,3,4,5,6,7],[8,9,10,11,12,13,14]])\n",
        "print(a)\n",
        "#this is the array of 2 rows and 7 coloumns\n",
        "#.....................................................\n",
        "\"\"\"Access specific element\"\"\"\n",
        "#syntax:a[row_index,column_index]\n",
        "print(a[1,5])\n",
        "#.....................................................\n",
        "\"\"\"Access a full row\"\"\"\n",
        "#syntax:a[row_index,:]\n",
        "print(a[0,:])\n",
        "#......................................................\n",
        "\"\"\"Access a full column\"\"\"\n",
        "#syntax:a[:,column_index]\n",
        "print(a[:,2])\n",
        "#......................................................\n",
        "\"\"\"Fancy Slicing:Select with start:end:step\"\"\"\n",
        "#syntax:a[row_index,start:end:step]\n",
        "print(a[1,1:-1:3])\n",
        "#.......................................................\n",
        "\"\"\"change an elemnt\"\"\"\n",
        "#syntax a[row_index,coloumn_index]\n",
        "a[1,5]=20\n",
        "print(a)\n",
        "#........................................................\n",
        "\"\"\"change a full column\"\"\"\n",
        "a[:,2]=[1,2]\n",
        "#here semi colon represents grabbing entire elements in the row\n",
        "print(a)\n",
        "\n",
        "\n"
      ],
      "metadata": {
        "id": "TvR6UkT8DQCu",
        "colab": {
          "base_uri": "https://localhost:8080/"
        },
        "outputId": "19263787-bcce-447b-f6c8-d668de314d10"
      },
      "execution_count": 28,
      "outputs": [
        {
          "output_type": "stream",
          "name": "stdout",
          "text": [
            "[[ 1  2  3  4  5  6  7]\n",
            " [ 8  9 10 11 12 13 14]]\n",
            "13\n",
            "[1 2 3 4 5 6 7]\n",
            "[ 3 10]\n",
            "[ 9 12]\n",
            "[[ 1  2  3  4  5  6  7]\n",
            " [ 8  9 10 11 12 20 14]]\n",
            "[[ 1  2  1  4  5  6  7]\n",
            " [ 8  9  2 11 12 20 14]]\n"
          ]
        }
      ]
    }
  ]
}